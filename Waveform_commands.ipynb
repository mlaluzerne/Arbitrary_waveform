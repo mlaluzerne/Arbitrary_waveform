{
 "cells": [
  {
   "cell_type": "code",
   "execution_count": 1,
   "metadata": {},
   "outputs": [],
   "source": [
    "import numpy as np"
   ]
  },
  {
   "cell_type": "code",
   "execution_count": 2,
   "metadata": {},
   "outputs": [],
   "source": [
    "# inputs\n",
    "frequency = 500           # frequency(Hz)\n",
    "time_length = 1           # total time of the waveform (s)\n",
    "decimals = 3              # number of decimal places to keep in the waveform\n",
    "amplitude = 1            # amplitude (V)\n",
    "num_points = 201          # number of points to put in the waveform"
   ]
  },
  {
   "cell_type": "code",
   "execution_count": 3,
   "metadata": {},
   "outputs": [],
   "source": [
    "# create time vector in seconds\n",
    "t = np.array(list(range(num_points)))\n",
    "t = t/((num_points-1)/time_length)\n",
    "\n",
    "# create voltage vector v(t)\n",
    "v = t**2   # change this equation, ensuring v does not exceed amplitude\n",
    "v = v/amplitude\n",
    "v = np.round(v, decimals)\n",
    "\n",
    "# check v for exceeding amplitude\n",
    "if any(v>1) or any(v<-1):\n",
    "    print(v)\n",
    "    raise ValueError(\"Voltage exceeds allowed amplitude\")"
   ]
  },
  {
   "cell_type": "code",
   "execution_count": 4,
   "metadata": {},
   "outputs": [
    {
     "name": "stdout",
     "output_type": "stream",
     "text": [
      ":SOUR1:APPL:ARB 500,1 \n",
      "\n",
      " :SOUR1:DATA VOLATILE,0.0,0.0,0.0,0.0,0.0,0.001,0.001,0.001,0.002,0.002,0.003,0.003,0.004,0.004,0.005,0.006,0.006,0.007,0.008,0.009,0.01,0.011,0.012,0.013,0.014,0.016,0.017,0.018,0.02,0.021,0.022,0.024,0.026,0.027,0.029,0.031,0.032,0.034,0.036,0.038,0.04,0.042,0.044,0.046,0.048,0.051,0.053,0.055,0.058,0.06,0.062,0.065,0.068,0.07,0.073,0.076,0.078,0.081,0.084,0.087,0.09,0.093,0.096,0.099,0.102,0.106,0.109,0.112,0.116,0.119,0.122,0.126,0.13,0.133,0.137,0.141,0.144,0.148,0.152,0.156,0.16,0.164,0.168,0.172,0.176,0.181,0.185,0.189,0.194,0.198,0.202,0.207,0.212,0.216,0.221,0.226,0.23,0.235,0.24,0.245,0.25,0.255,0.26,0.265,0.27,0.276,0.281,0.286,0.292,0.297,0.303,0.308,0.314,0.319,0.325,0.331,0.336,0.342,0.348,0.354,0.36,0.366,0.372,0.378,0.384,0.391,0.397,0.403,0.41,0.416,0.423,0.429,0.436,0.442,0.449,0.456,0.462,0.469,0.476,0.483,0.49,0.497,0.504,0.511,0.518,0.526,0.533,0.54,0.548,0.555,0.562,0.57,0.578,0.585,0.593,0.601,0.608,0.616,0.624,0.632,0.64,0.648,0.656,0.664,0.672,0.681,0.689,0.697,0.706,0.714,0.722,0.731,0.74,0.748,0.757,0.766,0.774,0.783,0.792,0.801,0.81,0.819,0.828,0.837,0.846,0.856,0.865,0.874,0.884,0.893,0.902,0.912,0.922,0.931,0.941,0.951,0.96,0.97,0.98,0.99,1.0 \n",
      "\n",
      " :OUTP1 ON\n"
     ]
    }
   ],
   "source": [
    "# creating commands:\n",
    "\n",
    "# set frequency, amplitude command\n",
    "freq_set = f\":SOUR1:APPL:ARB {frequency},{amplitude}\"\n",
    "\n",
    "# send waveform command\n",
    "v = v.astype(str)\n",
    "pts = \",\".join(v)\n",
    "send_wave = f\":SOUR1:DATA VOLATILE,{pts}\"\n",
    "\n",
    "# turn on output\n",
    "on = \":OUTP1 ON\"\n",
    "\n",
    "# write commands to a .txt file\n",
    "\n",
    "print(freq_set, '\\n\\n', send_wave, \"\\n\\n\", on)"
   ]
  },
  {
   "cell_type": "code",
   "execution_count": 5,
   "metadata": {},
   "outputs": [],
   "source": [
    "# write commands to txt file for later usage\n",
    "filename = \"commands.txt\"\n",
    "\n",
    "with open(filename, \"w\") as f:\n",
    "    f.write(f\"{freq_set}\\n\\n{send_wave}\\n\\n{on}\")"
   ]
  },
  {
   "cell_type": "code",
   "execution_count": null,
   "metadata": {},
   "outputs": [],
   "source": []
  }
 ],
 "metadata": {
  "kernelspec": {
   "display_name": "Python 3",
   "language": "python",
   "name": "python3"
  },
  "language_info": {
   "codemirror_mode": {
    "name": "ipython",
    "version": 3
   },
   "file_extension": ".py",
   "mimetype": "text/x-python",
   "name": "python",
   "nbconvert_exporter": "python",
   "pygments_lexer": "ipython3",
   "version": "3.7.10"
  }
 },
 "nbformat": 4,
 "nbformat_minor": 2
}
